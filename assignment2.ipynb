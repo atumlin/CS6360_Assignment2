{
 "cells": [
  {
   "cell_type": "markdown",
   "metadata": {},
   "source": [
    "## CS6360 Programming Assignment 2: Bayesian Networks\n",
    "The python notebook for the CS6360 programming assignment 2 completed and coded by Anne Tumlin."
   ]
  },
  {
   "cell_type": "markdown",
   "metadata": {},
   "source": [
    "### Part 1: Implementing the Variable Elimination Algorithm"
   ]
  },
  {
   "cell_type": "markdown",
   "metadata": {},
   "source": [
    "Import and install all necessary files. "
   ]
  },
  {
   "cell_type": "code",
   "execution_count": 58,
   "metadata": {},
   "outputs": [],
   "source": [
    "import numpy as np\n",
    "from IPython.display import Image, display\n",
    "import pydotplus"
   ]
  },
  {
   "cell_type": "markdown",
   "metadata": {},
   "source": [
    "Implement factor class. "
   ]
  },
  {
   "cell_type": "code",
   "execution_count": 59,
   "metadata": {},
   "outputs": [],
   "source": [
    "class Factor:\n",
    "    def __init__(self, variables, values):\n",
    "        self.variables = variables  # A list of variable names ['A', 'B', 'C', ...]\n",
    "        self.values = values  # A numpy array of values where rows correspond to different states\n",
    "        \n",
    "    def __repr__(self):\n",
    "        return f\"Factor(variables={self.variables}, values=\\n{self.values})\""
   ]
  },
  {
   "cell_type": "markdown",
   "metadata": {},
   "source": [
    "Example implementation of factor and factor list for testing. "
   ]
  },
  {
   "cell_type": "code",
   "execution_count": 60,
   "metadata": {},
   "outputs": [
    {
     "name": "stdout",
     "output_type": "stream",
     "text": [
      "Factor A: \n",
      " Factor(variables=['A'], values=\n",
      "[[1.  0.6]\n",
      " [0.  0.4]])\n",
      "Factor B: \n",
      " Factor(variables=['B'], values=\n",
      "[[1.  0.7]\n",
      " [0.  0.3]])\n",
      "Factor C: \n",
      " Factor(variables=['A', 'B', 'C'], values=\n",
      "[[1.  1.  1.  0.9]\n",
      " [1.  1.  0.  0.1]\n",
      " [1.  0.  1.  0.5]\n",
      " [1.  0.  0.  0.5]\n",
      " [0.  1.  1.  0.8]\n",
      " [0.  1.  0.  0.2]\n",
      " [0.  0.  1.  0.3]\n",
      " [0.  0.  0.  0.7]])\n"
     ]
    }
   ],
   "source": [
    "# Bayesian network: A -> C <- B\n",
    "\n",
    "# Factor for P(A)\n",
    "factor_A = Factor(variables=['A'], \n",
    "                  values=np.array([\n",
    "                      [True, 0.6],\n",
    "                      [False, 0.4]\n",
    "                  ]))\n",
    "\n",
    "# Factor for P(B)\n",
    "factor_B = Factor(variables=['B'], \n",
    "                  values=np.array([\n",
    "                      [True, 0.7],\n",
    "                      [False, 0.3]\n",
    "                  ]))\n",
    "\n",
    "# Factor for P(C|A, B)\n",
    "factor_C_given_A_B = Factor(variables=['A', 'B', 'C'], \n",
    "                            values=np.array([\n",
    "                                [True,  True,  True,  0.9],\n",
    "                                [True,  True,  False, 0.1],\n",
    "                                [True,  False, True,  0.5],\n",
    "                                [True,  False, False, 0.5],\n",
    "                                [False, True,  True,  0.8],\n",
    "                                [False, True,  False, 0.2],\n",
    "                                [False, False, True,  0.3],\n",
    "                                [False, False, False, 0.7]\n",
    "                            ]))\n",
    "\n",
    "# Factor list\n",
    "factorList = [factor_A, factor_B, factor_C_given_A_B]\n",
    "print(f'Factor A: \\n {factor_A}')\n",
    "print(f'Factor B: \\n {factor_B}')\n",
    "print(f'Factor C: \\n {factor_C_given_A_B}')\n"
   ]
  },
  {
   "cell_type": "markdown",
   "metadata": {},
   "source": [
    "Implement the restrict function."
   ]
  },
  {
   "cell_type": "code",
   "execution_count": 61,
   "metadata": {},
   "outputs": [
    {
     "name": "stdout",
     "output_type": "stream",
     "text": [
      "Factor(variables=['A', 'B', 'C'], values=\n",
      "[[1.  1.  1.  0.9]\n",
      " [1.  1.  0.  0.1]\n",
      " [0.  1.  1.  0.8]\n",
      " [0.  1.  0.  0.2]])\n"
     ]
    }
   ],
   "source": [
    "# Function that restricts a variable to some value in a given factor\n",
    "def restrict(factor, variable, value):\n",
    "    if variable not in factor.variables:\n",
    "        return factor  # The variable is not in the factor, return the factor unchanged.\n",
    "        \n",
    "    var_index = factor.variables.index(variable)\n",
    "    restricted_values = factor.values[factor.values[:, var_index] == value]\n",
    "    \n",
    "    new_variables = factor.variables \n",
    "    new_values = restricted_values  \n",
    "    \n",
    "    return Factor(variables=new_variables, values=new_values)\n",
    "\n",
    "# Testing restrict function\n",
    "restricted_f_C_given_A = restrict(factor_C_given_A_B, 'B', True)\n",
    "print(restricted_f_C_given_A)"
   ]
  },
  {
   "cell_type": "markdown",
   "metadata": {},
   "source": [
    "Implement the multiply function."
   ]
  },
  {
   "cell_type": "code",
   "execution_count": 62,
   "metadata": {},
   "outputs": [
    {
     "name": "stdout",
     "output_type": "stream",
     "text": [
      "Factor(variables=['A', 'B'], values=\n",
      "[[1.   1.   0.42]\n",
      " [1.   0.   0.18]\n",
      " [0.   1.   0.28]\n",
      " [0.   0.   0.12]])\n"
     ]
    }
   ],
   "source": [
    "# Function that multiplies two factors\n",
    "def multiply(factor1, factor2):\n",
    "    # Find the variables common to both factors\n",
    "    common_vars = list(set(factor1.variables) & set(factor2.variables))\n",
    "    # Find the variables that are not common\n",
    "    vars2 = [var for var in factor2.variables if var not in common_vars]\n",
    "    \n",
    "    new_variables = factor1.variables + vars2 \n",
    "    new_rows = [] \n",
    "    \n",
    "    for row1 in factor1.values:\n",
    "        for row2 in factor2.values:\n",
    "            if all(row1[factor1.variables.index(var)] == row2[factor2.variables.index(var)] for var in common_vars):\n",
    "                # Join the rows on the common variables, and then multiply the probabilities\n",
    "                new_row = list(row1[:-1]) + [row2[factor2.variables.index(var)] for var in vars2] + [row1[-1] * row2[-1]]\n",
    "                new_rows.append(new_row)\n",
    "                \n",
    "    return Factor(new_variables, np.array(new_rows))\n",
    "\n",
    "# Testing multiply function\n",
    "product_factor = multiply(factor_A, factor_B)\n",
    "print(product_factor)"
   ]
  },
  {
   "cell_type": "markdown",
   "metadata": {},
   "source": [
    "Implement the sumout function."
   ]
  },
  {
   "cell_type": "code",
   "execution_count": 63,
   "metadata": {},
   "outputs": [
    {
     "name": "stdout",
     "output_type": "stream",
     "text": [
      "Factor(variables=['A', 'C'], values=\n",
      "[[1.0 1.0 1.4]\n",
      " [1.0 0.0 0.6]\n",
      " [0.0 1.0 1.1]\n",
      " [0.0 0.0 0.8999999999999999]])\n"
     ]
    }
   ],
   "source": [
    "# function that sums out a variable in a given factor.\n",
    "def sumout(factor, variable):\n",
    "    if variable not in factor.variables:\n",
    "        return factor # The variable is not in the factor, return the factor unchanged.\n",
    "\n",
    "    new_variables = [v for v in factor.variables if v != variable]\n",
    "\n",
    "    sum_dict = {}\n",
    "\n",
    "    for row in factor.values:\n",
    "        key = tuple(row[i] for i in range(len(factor.variables)) if factor.variables[i] != variable)\n",
    "\n",
    "        if key not in sum_dict:\n",
    "            sum_dict[key] = 0\n",
    "        \n",
    "        sum_dict[key] += row[-1]\n",
    "    \n",
    "    new_values_list = [[*key, prob] for key, prob in sum_dict.items()]\n",
    "    new_values = np.array(new_values_list, dtype=object)\n",
    "\n",
    "    for i, row in enumerate(new_values):\n",
    "        new_values[i][-1] = float(row[-1])\n",
    "\n",
    "    return Factor(new_variables, new_values)\n",
    "\n",
    "# Testing sumout function\n",
    "result_factor = sumout(factor_C_given_A_B, 'B')\n",
    "print(result_factor)"
   ]
  },
  {
   "cell_type": "markdown",
   "metadata": {},
   "source": [
    "Implement the normalize function."
   ]
  },
  {
   "cell_type": "code",
   "execution_count": 64,
   "metadata": {},
   "outputs": [
    {
     "name": "stdout",
     "output_type": "stream",
     "text": [
      "Factor(variables=['A', 'C'], values=\n",
      "[[1.0 1.0 0.35]\n",
      " [1.0 0.0 0.15]\n",
      " [0.0 1.0 0.275]\n",
      " [0.0 0.0 0.22499999999999998]])\n"
     ]
    }
   ],
   "source": [
    "# function that normalizes a factor by dividing each entry by the sum of all the entries. \n",
    "def normalize(factor):\n",
    "    total_prob = np.sum(factor.values[:, -1])\n",
    "    if total_prob > 0:\n",
    "        factor.values[:, -1] /= total_prob \n",
    "    return factor\n",
    "\n",
    "# Testing normalize function\n",
    "normalized_result_factor = normalize(result_factor)\n",
    "print(normalized_result_factor)"
   ]
  },
  {
   "cell_type": "markdown",
   "metadata": {},
   "source": [
    "Implement the inference function."
   ]
  },
  {
   "cell_type": "code",
   "execution_count": 65,
   "metadata": {},
   "outputs": [
    {
     "name": "stdout",
     "output_type": "stream",
     "text": [
      "Factor(variables=['A'], values=\n",
      "[[1.0 0.6428571428571428]\n",
      " [0.0 0.3571428571428571]])\n"
     ]
    }
   ],
   "source": [
    "# function that computes 𝑷(querryList|evidenceList) by variable elimination.\n",
    "def inference(factorList, queryVariables, orderedListOfHiddenVariables, evidenceList):\n",
    "    \n",
    "    # Restrict the factors in factorList according to the evidence in evidenceList\n",
    "    for evidence_var, evidence_value in evidenceList.items():\n",
    "        factorList = [restrict(factor, evidence_var, evidence_value) if evidence_var in factor.variables else factor for factor in factorList]\n",
    "    \n",
    "    # Calculate the product of the factors in factorList\n",
    "    product_factor = factorList[0]\n",
    "    for factor in factorList[1:]:\n",
    "        product_factor = multiply(product_factor, factor)\n",
    "        \n",
    "    # Sum out the the variables in the order given in orderedListOfHiddenVariables\n",
    "    for hidden_var in orderedListOfHiddenVariables:\n",
    "        product_factor = sumout(product_factor, hidden_var)\n",
    "    \n",
    "    # Normalize when a probability distribution that sums up to 1 is desired\n",
    "    result_factor = normalize(product_factor)\n",
    "    \n",
    "    if queryVariables:\n",
    "        # Filter the values to include only query variable columns\n",
    "        indices_to_keep = [product_factor.variables.index(var) for var in queryVariables]\n",
    "        filtered_values = product_factor.values[:, indices_to_keep + [-1]]  # Add the probability column\n",
    "        result_factor = Factor(variables=queryVariables, values=filtered_values)\n",
    "\n",
    "    return result_factor\n",
    "\n",
    "# Testing inference function\n",
    "result_factor = inference(factorList, queryVariables=['A'], orderedListOfHiddenVariables=['B'], evidenceList={'C': True})\n",
    "print(result_factor)"
   ]
  },
  {
   "cell_type": "markdown",
   "metadata": {},
   "source": [
    "### Part 2: Construct The Bayesian Network\n",
    "Here is the graphical representation of the bayesian network detailed in the instructions:\n",
    "\n",
    "![Sample Image](./bayesiannetwork.jpeg)"
   ]
  },
  {
   "cell_type": "markdown",
   "metadata": {},
   "source": [
    "#### Conditional Probability Tables\n",
    "P(OC)\n",
    "| OC           | P(OC)     |\n",
    "| ------------ | --------- |\n",
    "| True (owns)  | 0.8       |\n",
    "| False (none) | 0.2       |\n",
    "\n",
    "P(Trav)\n",
    "| Trav       | P(Trav)   |\n",
    "| ---------- | --------- |\n",
    "| True       | 0.05      |\n",
    "| False      | 0.95      |\n",
    "\n",
    "P(Fraud|Trav)\n",
    "| Trav       | Fraud     | P(Fraud \\| Trav)     |\n",
    "| ---------- | --------- | -------------------- |\n",
    "| True       | True      | 0.01                |\n",
    "| True       | False     | 0.99                |\n",
    "| False      | True      | 0.004               |\n",
    "| False      | False     | 0.996               |\n",
    "\n",
    "P(FP|Fraud,Trav)\n",
    "| Trav       | Fraud     | FP        | P(FP \\| Fraud, Trav)       |\n",
    "| ---------- | --------- | --------- | -------------------------- |\n",
    "| True       | True      | True      | 0.9                       |\n",
    "| True       | True      | False     | 0.1                       |\n",
    "| True       | False     | True      | 0.9                       |\n",
    "| True       | False     | False     | 0.1                       |\n",
    "| False      | True      | True      | 0.1                       |\n",
    "| False      | True      | False     | 0.9                       |\n",
    "| False      | False     | True      | 0.01                      |\n",
    "| False      | False     | False     | 0.99                      |\n",
    "\n",
    "P(IP|Fraud,OC)\n",
    "| OC         | Fraud     | IP        | P(IP \\| Fraud, OC)       |\n",
    "| ---------- | --------- | --------- | ------------------------ |\n",
    "| True       | True      | True      | 0.15                    |\n",
    "| True       | True      | False     | 0.85                    |\n",
    "| True       | False     | True      | 0.1                     |\n",
    "| True       | False     | False     | 0.9                     |\n",
    "| False      | True      | True      | 0.051                   |\n",
    "| False      | True      | False     | 0.949                   |\n",
    "| False      | False     | True      | 0.001                   |\n",
    "| False      | False     | False     | 0.999                   |\n",
    "\n",
    "P(CRP|OC)\n",
    "| OC         | CRP       | P(CRP \\| OC)            |\n",
    "| ---------- | --------- | ----------------------- |\n",
    "| True       | True      | 0.1                     |\n",
    "| True       | False     | 0.9                     |\n",
    "| False      | True      | 0.01                    |\n",
    "| False      | False     | 0.99                    |"
   ]
  },
  {
   "cell_type": "markdown",
   "metadata": {},
   "source": [
    "Encoding the conditional probabilities above into factors and a factor list."
   ]
  },
  {
   "cell_type": "code",
   "execution_count": 66,
   "metadata": {},
   "outputs": [],
   "source": [
    "# Factor for OC \n",
    "factor_OC = Factor(variables=['OC'], \n",
    "                   values=np.array([\n",
    "                       [True, 0.8],\n",
    "                       [False, 0.2]\n",
    "                   ]))\n",
    "                   \n",
    "# Factor for Trav \n",
    "factor_Trav = Factor(variables=['Trav'], \n",
    "                     values=np.array([\n",
    "                         [True, 0.05],\n",
    "                         [False, 0.95]\n",
    "                     ]))\n",
    "\n",
    "# Factor for Fraud given Trav \n",
    "factor_Fraud_given_Trav = Factor(variables=['Trav', 'Fraud'], \n",
    "                                 values=np.array([\n",
    "                                     [True,  True,  0.01],\n",
    "                                     [True,  False, 0.99],\n",
    "                                     [False, True,  0.004],\n",
    "                                     [False, False, 0.996]\n",
    "                                 ]))\n",
    "\n",
    "# Factor for FP given Fraud and Trav\n",
    "factor_FP_given_Fraud_Trav = Factor(variables=['Trav', 'Fraud', 'FP'], \n",
    "                                    values=np.array([\n",
    "                                        [True,  True,  True,  1],\n",
    "                                        [True,  True,  False, 0],\n",
    "                                        [True,  False, True,  0.9],\n",
    "                                        [True,  False, False, 0.1],\n",
    "                                        [False, True,  True,  0.1],\n",
    "                                        [False, True,  False, 0.9],\n",
    "                                        [False, False, True,  0.01],\n",
    "                                        [False, False, False, 0.99]\n",
    "                                    ]))\n",
    "\n",
    "# Factor for IP given Fraud and OC\n",
    "factor_IP_given_Fraud_OC = Factor(variables=['OC', 'Fraud', 'IP'], \n",
    "                                  values=np.array([\n",
    "                                      [True,  True,  True,  0.15],\n",
    "                                      [True,  True,  False, 0.85],\n",
    "                                      [True,  False, True,  0.1],\n",
    "                                      [True,  False, False, 0.9],\n",
    "                                      [False, True,  True,  0.051],\n",
    "                                      [False, True,  False, 0.949],\n",
    "                                      [False, False, True,  0.001],\n",
    "                                      [False, False, False, 0.999]\n",
    "                                  ]))\n",
    "\n",
    "# Factor for CRP given OC\n",
    "factor_CRP_given_OC = Factor(variables=['OC', 'CRP'], \n",
    "                             values=np.array([\n",
    "                                 [True,  True,  0.1],\n",
    "                                 [True,  False, 0.9],\n",
    "                                 [False, True,  0.01],\n",
    "                                 [False, False, 0.99]\n",
    "                             ]))\n",
    "\n",
    "factorList = [\n",
    "    factor_OC, \n",
    "    factor_Trav, \n",
    "    factor_Fraud_given_Trav, \n",
    "    factor_FP_given_Fraud_Trav, \n",
    "    factor_IP_given_Fraud_OC, \n",
    "    factor_CRP_given_OC\n",
    "]"
   ]
  },
  {
   "cell_type": "markdown",
   "metadata": {},
   "source": [
    "### Part 2(b)(i)\n",
    "What is the prior probability (i.e., before we search for previous computer related purchases\n",
    "and before we verify whether it is a foreign and/or an internet purchase) that the current\n",
    "transaction is a fraud?\n",
    "\n",
    "**Find: P(Fraud)**"
   ]
  },
  {
   "cell_type": "code",
   "execution_count": 67,
   "metadata": {},
   "outputs": [
    {
     "name": "stdout",
     "output_type": "stream",
     "text": [
      "Factor(variables=['Fraud'], values=\n",
      "[[1.0 0.004299999999999999]\n",
      " [0.0 0.9956999999999999]])\n"
     ]
    }
   ],
   "source": [
    "# Calculate the prior probability for 'Fraud' by marginalizing out all variables according to the order provided\n",
    "prior_fraud = inference(factorList=factorList,\n",
    "                        queryVariables=['Fraud'],\n",
    "                        orderedListOfHiddenVariables=['Trav', 'FP', 'IP', 'OC', 'CRP'],\n",
    "                        evidenceList={})\n",
    "\n",
    "print(prior_fraud)"
   ]
  },
  {
   "cell_type": "markdown",
   "metadata": {},
   "source": [
    "**ANSWER**: The prior probability that the current transaction is a fraud is **0.429%**."
   ]
  },
  {
   "cell_type": "markdown",
   "metadata": {},
   "source": [
    "### Part 2(b)(ii)\n",
    "What is the probability that the current transaction is a fraud once we have verified that it is a\n",
    "foreign transaction, but not an internet purchase and that the card holder purchased computer\n",
    "related accessories in the past week?\n",
    "\n",
    "**Find: P(Fraud|FP=T,IP=F,CRP=T)**"
   ]
  },
  {
   "cell_type": "code",
   "execution_count": 68,
   "metadata": {},
   "outputs": [
    {
     "name": "stdout",
     "output_type": "stream",
     "text": [
      "Factor(variables=['Fraud'], values=\n",
      "[[1.0 0.015156688340694066]\n",
      " [0.0 0.9848433116593059]])\n"
     ]
    }
   ],
   "source": [
    "# Calculate the conditional probability of fraud given the evidence\n",
    "conditional_fraud_prob = inference(factorList=factorList,\n",
    "                                   queryVariables=['Fraud'],\n",
    "                                   orderedListOfHiddenVariables=['Trav', 'OC'],\n",
    "                                   evidenceList={'FP': True, 'IP': False, 'CRP': True})\n",
    "\n",
    "print(conditional_fraud_prob)"
   ]
  },
  {
   "cell_type": "markdown",
   "metadata": {},
   "source": [
    "**ANSWER**: The prior probability that the current transaction is a fraud given it is a foreign transaction, not an internet purchase, and the user purchased computer related accessories in the past week is **1.516%**."
   ]
  },
  {
   "cell_type": "markdown",
   "metadata": {},
   "source": [
    "### Part 2(b)(iii)\n",
    "After computing those probabilities, the fraud detection system raises a flag and recommends\n",
    "that the card holder be called to confirm the transaction. An agent calls at the domicile of the\n",
    "card holder but she is not home. Her spouse confirms that she is currently out of town on a\n",
    "business trip. How does the probability of a fraud changes based on this new piece of\n",
    "information?\n",
    "\n",
    "**Find: P(Fraud|FP=T,IP=F,CRP=T,Trav=T)**"
   ]
  },
  {
   "cell_type": "code",
   "execution_count": 69,
   "metadata": {},
   "outputs": [
    {
     "name": "stdout",
     "output_type": "stream",
     "text": [
      "Factor(variables=['Fraud'], values=\n",
      "[[1.0 0.010490281144277188]\n",
      " [0.0 0.9895097188557229]])\n"
     ]
    }
   ],
   "source": [
    "# Calculate the conditional probability of fraud given the new evidence\n",
    "updated_conditional_fraud_prob = inference(factorList=factorList,\n",
    "                                           queryVariables=['Fraud'],\n",
    "                                           orderedListOfHiddenVariables=['OC'] ,\n",
    "                                           evidenceList={'FP': True,'IP': False,'CRP': True,'Trav': True})\n",
    "\n",
    "print(updated_conditional_fraud_prob)"
   ]
  },
  {
   "cell_type": "markdown",
   "metadata": {},
   "source": [
    "**ANSWER**: The prior probability that the current transaction is a fraud given it is a foreign transaction, not an internet purchase, the user purchased computer related accessories in the past week, and is traveling is **1.049%**."
   ]
  },
  {
   "cell_type": "markdown",
   "metadata": {},
   "source": [
    "### Part 2(b)(iv)\n",
    "Suppose you are not a very honest employee and you just stole a credit card. You know that\n",
    "the fraud detection system uses the Bayes net designed earlier, but you still want to make an\n",
    "important purchase over the internet. What action you can take prior to your internet purchase\n",
    "to reduce the risk that the transaction will be rejected as a possible fraud?. Indicate by how\n",
    "much the probability of a fraud gets reduced by taken this action.\n",
    "\n",
    "**ANSWER:** To lower the risk of being flagged as fraudulent when making a large purchase online, you can make a computer-related purchase in the week prior. This is because users who make such purchases are generally considered more trustworthy due to the conditional probabilities assigned to them. As they are more likely to own a computer, their purchases are deemed less likely to be fraud when making an internet purchase."
   ]
  },
  {
   "cell_type": "code",
   "execution_count": 70,
   "metadata": {},
   "outputs": [
    {
     "name": "stdout",
     "output_type": "stream",
     "text": [
      "Probability of Fraud without CRP: Factor(variables=['Fraud'], values=\n",
      "[[1.0 0.0070145563176208636]\n",
      " [0.0 0.9929854436823792]])\n",
      "Probability of Fraud with CRP: Factor(variables=['Fraud'], values=\n",
      "[[1.0 0.0064889028546204755]\n",
      " [0.0 0.9935110971453796]])\n",
      "Reduction in Probability of Fraud: [0.0005256534630003881 -0.0005256534630003751]\n"
     ]
    }
   ],
   "source": [
    "# Calculate the probability of fraud given it's an internet purchase without a prior computer-related purchase\n",
    "prob_fraud_no_crp = inference(factorList,\n",
    "                              queryVariables=['Fraud'],\n",
    "                              orderedListOfHiddenVariables=['Trav', 'OC', 'FP', 'CRP'],\n",
    "                              evidenceList={'IP': True, 'CRP': False})\n",
    "\n",
    "\n",
    "# Calculate the probability of fraud given it's an internet purchase with a prior computer-related purchase\n",
    "prob_fraud_with_crp = inference(factorList,\n",
    "                                queryVariables=['Fraud'],\n",
    "                                orderedListOfHiddenVariables=['Trav', 'OC', 'FP'],\n",
    "                                evidenceList={'IP': True, 'CRP': True})\n",
    "\n",
    "\n",
    "# The reduction in fraud probability by making the computer-related purchase\n",
    "prob_reduction = prob_fraud_no_crp.values[:, -1] - prob_fraud_with_crp.values[:, -1]\n",
    "\n",
    "print(\"Probability of Fraud without CRP:\", prob_fraud_no_crp)\n",
    "print(\"Probability of Fraud with CRP:\", prob_fraud_with_crp)\n",
    "print(\"Reduction in Probability of Fraud:\", prob_reduction)"
   ]
  },
  {
   "cell_type": "markdown",
   "metadata": {},
   "source": [
    "**Additional Question:** Discuss how easy/difficult it may be to scale up Bayes net\n",
    "construction and execution to answer queries.\n",
    "\n",
    "**Answer:** Scaling up Bayesian Networks for query answering can be a difficult task due to the exponential increase in complexity as the number of variables and their interdependencies grows. In domains where strong conditional independence exists and data is available, constructing and using larger networks is easier. However, in domains with dense connectivity and large conditional probability tables, computational difficulties arise. Exact inference is often infeasible for very large networks, making approximate methods necessary. The ease or difficulty of scaling up depends heavily on the characteristics of the domain, the chosen inference algorithms, and the quality of data used to learn the network's structure and parameters."
   ]
  }
 ],
 "metadata": {
  "kernelspec": {
   "display_name": "Python 3",
   "language": "python",
   "name": "python3"
  },
  "language_info": {
   "codemirror_mode": {
    "name": "ipython",
    "version": 3
   },
   "file_extension": ".py",
   "mimetype": "text/x-python",
   "name": "python",
   "nbconvert_exporter": "python",
   "pygments_lexer": "ipython3",
   "version": "3.11.6"
  }
 },
 "nbformat": 4,
 "nbformat_minor": 2
}
